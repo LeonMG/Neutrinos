{
 "cells": [
  {
   "cell_type": "code",
   "execution_count": 37,
   "metadata": {
    "collapsed": true
   },
   "outputs": [],
   "source": [
    "%matplotlib inline\n",
    "import matplotlib\n",
    "import matplotlib.pyplot as plt\n",
    "import numpy as np\n",
    "from classy import Class\n",
    "import math"
   ]
  },
  {
   "cell_type": "code",
   "execution_count": 42,
   "metadata": {
    "collapsed": false
   },
   "outputs": [
    {
     "data": {
      "text/plain": [
       "[<matplotlib.lines.Line2D at 0x152c4eb50>]"
      ]
     },
     "execution_count": 42,
     "metadata": {},
     "output_type": "execute_result"
    },
    {
     "data": {
      "image/png": "[encoded data removed]",
      "text/plain": [
       "<matplotlib.figure.Figure at 0x12d35e5d0>"
      ]
     },
     "metadata": {},
     "output_type": "display_data"
    }
   ],
   "source": [
    "LCDM = Class()\n",
    "LCDM.set({'output':'tCl ,pCl ,lCl ,mP','modes':'s,t', 'lensing':'yes'})\n",
    "LCDM.set({'P_k_ini type':'inflation_V', 'potential': 'natural'})\n",
    "#  /* V(phi) = Lambda^4(1+cos(phi/f)) = V0 (1+cos(phi/V1)) */ line 950 primordial.c\n",
    "#/**                                                                                                                                                                          \n",
    "# * This routine encodes the inflaton scalar potential                                                                                                                                                                                                                                                                                                   \n",
    "# * @param ppm            Input: pointer to primordial structure                                                                                                              \n",
    "# * @param phi            Input: background inflaton field value in units of Mp                                                                                               \n",
    "# * @param V              Output: inflaton potential in units of \\f$ Mp^4\\f$                                                                                                  \n",
    "# * @param dV             Output: first derivative of inflaton potential wrt the field                                                                                        \n",
    "# * @param ddV            Output: second derivative of inflaton potential wrt the field                                                                                       \n",
    "# * @return the error status                                                                                                                                                  \n",
    "# */\n",
    "#Line 500 explanatory.ini\n",
    "#V_0=1.e-13\n",
    "#V_1=-1.e-14\n",
    "#LCDM.set({'V_0':1e15, 'V_1': -1e5})\n",
    "#https://arxiv.org/pdf/hep-ph/0404012.pdf Eq 2\n",
    "#Lambda^4=V0\n",
    "#Lambda~10^15\n",
    "#mPl= 1.22×10^19\n",
    "LCDM.set({'V_0':1e60, 'V_1': -1e-5})\n",
    "LCDM.compute()\n",
    "cls = LCDM.lensed_cl (2500)\n",
    "ll = cls['ell'][2:]\n",
    "pi=3.1416\n",
    "clTT = cls['tt'][2:]\n",
    "plt.figure (1)\n",
    "plt.xscale('log')\n",
    "plt.yscale('linear')\n",
    "plt.xlim (2 ,2500)\n",
    "plt.xlabel(r'$\\ell$')\n",
    "plt.ylabel(r'$[\\ell(\\ell+1) /2\\pi]   C_ell^\\ mathrm{TT}$')\n",
    "plt.plot(ll ,clTT*ll*(ll+1) /2.*pi,'r-')\n"
   ]
  },
  {
   "cell_type": "code",
   "execution_count": 40,
   "metadata": {
    "collapsed": false,
    "scrolled": true
   },
   "outputs": [
    {
     "data": {
      "text/plain": [
       "<matplotlib.text.Text at 0x152d8f9d0>"
      ]
     },
     "execution_count": 40,
     "metadata": {},
     "output_type": "execute_result"
    },
    {
     "data": {
      "image/png": "[encoded data removed]",
      "text/plain": [
       "<matplotlib.figure.Figure at 0x131dc6490>"
      ]
     },
     "metadata": {},
     "output_type": "display_data"
    }
   ],
   "source": [
    "pm = LCDM.get_primordial()\n",
    "pm.viewkeys()\n",
    "plt.loglog(pm['k [1/Mpc]'],pm['P_scalar(k)'])\n",
    "if pm.has_key('P_tensor(k)'):\n",
    "    plt.loglog(pm['k [1/Mpc]'],pm['P_tensor(k)'])\n",
    "plt.xlabel(r\"$k$\")\n",
    "plt.ylabel(r\"$P(k)$\")"
   ]
  },
  {
   "cell_type": "code",
   "execution_count": null,
   "metadata": {
    "collapsed": false
   },
   "outputs": [],
   "source": []
  },
  {
   "cell_type": "code",
   "execution_count": null,
   "metadata": {
    "collapsed": false
   },
   "outputs": [],
   "source": [
    "\n"
   ]
  },
  {
   "cell_type": "code",
   "execution_count": null,
   "metadata": {
    "collapsed": true
   },
   "outputs": [],
   "source": []
  }
 ],
 "metadata": {
  "kernelspec": {
   "display_name": "Python 2",
   "language": "python",
   "name": "python2"
  },
  "language_info": {
   "codemirror_mode": {
    "name": "ipython",
    "version": 2
   },
   "file_extension": ".py",
   "mimetype": "text/x-python",
   "name": "python",
   "nbconvert_exporter": "python",
   "pygments_lexer": "ipython2",
   "version": "2.7.13"
  }
 },
 "nbformat": 4,
 "nbformat_minor": 2
}
